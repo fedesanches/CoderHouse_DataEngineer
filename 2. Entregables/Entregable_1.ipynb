{
 "cells": [
  {
   "cell_type": "code",
   "execution_count": null,
   "metadata": {},
   "outputs": [],
   "source": [
    "## Instalamos la libreria psycopg2\n",
    "\n",
    "%pip install psycopg2"
   ]
  },
  {
   "cell_type": "code",
   "execution_count": 3,
   "metadata": {},
   "outputs": [],
   "source": [
    "## Librerias a importar\n",
    "\n",
    "import requests\n",
    "import pandas as pd\n",
    "import psycopg2\n",
    "from psycopg2.extras import execute_values"
   ]
  },
  {
   "cell_type": "code",
   "execution_count": 4,
   "metadata": {},
   "outputs": [],
   "source": [
    "## Conexion a API\n",
    "\n",
    "url = 'https://rickandmortyapi.com/api/character'\n",
    "headers = {\"Accept-Encoding\": \"gzip, deflate\"}\n",
    "\n",
    "response = requests.get(url, headers = headers)\n",
    "data = response.json()\n",
    "\n",
    "df = pd.json_normalize(data['results'])\n",
    "df = df.drop(['episode'], axis=1)"
   ]
  },
  {
   "cell_type": "code",
   "execution_count": null,
   "metadata": {},
   "outputs": [],
   "source": [
    "## Creacion de tabla en codigo SQL para Redshift\n",
    "\n",
    "\"\"\" CREATE TABLE IF NOT EXISTS federicohernansanches_coderhouse.characters (\n",
    "\tid INT,\n",
    "\tname VARCHAR(255),\n",
    "\tstatus VARCHAR(255),\n",
    "\tspecies VARCHAR(255),\n",
    "\ttype VARCHAR(255),\n",
    "\tgender VARCHAR(255),\n",
    "\timage VARCHAR(255),\n",
    "\turl VARCHAR(255),\n",
    "\torigin_name VARCHAR(255),\n",
    "\torigin_url VARCHAR(255),\n",
    "\tlocation_name VARCHAR(255),\n",
    "\tlocation_url VARCHAR(255),\n",
    "\tcreated\tTIMESTAMPTZ\n",
    ") DISTKEY(id) SORTKEY(name) \"\"\""
   ]
  },
  {
   "cell_type": "code",
   "execution_count": null,
   "metadata": {},
   "outputs": [],
   "source": [
    "## Creo string para insertar y paso valores a lista\n",
    "\n",
    "cols = ['id', 'name', 'status', 'species', 'type', 'gender', 'image', 'url', 'created', 'origin_name', 'origin_url', 'location_name', 'location_url']\n",
    "\n",
    "insert_sql = f\"INSERT INTO federicohernansanches_coderhouse.characters ({', '.join(cols)}) VALUES %s\"\n",
    "\n",
    "df2 = df.head(5) ## Agarro las primeras 5 a modo de ejemplo para no sobrecargar la base; en el TP final cargare todo\n",
    "values = [tuple(x) for x in df2.to_numpy()]\n",
    "\n",
    "values"
   ]
  },
  {
   "cell_type": "code",
   "execution_count": 5,
   "metadata": {},
   "outputs": [
    {
     "name": "stdout",
     "output_type": "stream",
     "text": [
      "Connected to Redshift successfully!\n"
     ]
    }
   ],
   "source": [
    "## Conexion a DB Redshift\n",
    "\n",
    "url = \"data-engineer-cluster.cyhh5bfevlmn.us-east-1.redshift.amazonaws.com\"\n",
    "data_base = \"data-engineer-database\"\n",
    "user = \"federicohernansanches_coderhouse\"\n",
    "pwd = \"6H0Tll7uih\"\n",
    "\n",
    "try:\n",
    "    conn = psycopg2.connect(\n",
    "        host = url,\n",
    "        dbname = data_base,\n",
    "        user = user,\n",
    "        password = pwd,\n",
    "        port = '5439'\n",
    "    )\n",
    "    print(\"Connected to Redshift successfully!\")\n",
    "    \n",
    "except Exception as e:\n",
    "    print(\"Unable to connect to Redshift.\")\n",
    "    print(e)"
   ]
  },
  {
   "cell_type": "code",
   "execution_count": 7,
   "metadata": {},
   "outputs": [
    {
     "name": "stdout",
     "output_type": "stream",
     "text": [
      "Proceso terminado\n"
     ]
    }
   ],
   "source": [
    "## Cargo datos en la tabla de redshift\n",
    "\n",
    "cur = conn.cursor()\n",
    "\n",
    "cur.execute(\"BEGIN\")\n",
    "execute_values(cur, insert_sql, values)\n",
    "cur.execute(\"COMMIT\")\n",
    "\n",
    "print('Proceso terminado')\n",
    "\n",
    "conn.close()"
   ]
  }
 ],
 "metadata": {
  "kernelspec": {
   "display_name": "Python 3",
   "language": "python",
   "name": "python3"
  },
  "language_info": {
   "codemirror_mode": {
    "name": "ipython",
    "version": 3
   },
   "file_extension": ".py",
   "mimetype": "text/x-python",
   "name": "python",
   "nbconvert_exporter": "python",
   "pygments_lexer": "ipython3",
   "version": "3.11.6"
  }
 },
 "nbformat": 4,
 "nbformat_minor": 2
}
